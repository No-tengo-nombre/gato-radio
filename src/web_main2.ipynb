{
 "cells": [
  {
   "attachments": {},
   "cell_type": "markdown",
   "metadata": {},
   "source": [
    "# Gato radio\n",
    "![asdf](gato_web/resources/cat.png)"
   ]
  },
  {
   "cell_type": "code",
   "execution_count": 8,
   "metadata": {},
   "outputs": [],
   "source": [
    "from IPython.display import Audio"
   ]
  },
  {
   "cell_type": "code",
   "execution_count": 7,
   "metadata": {},
   "outputs": [
    {
     "data": {
      "application/vnd.jupyter.widget-view+json": {
       "model_id": "ddf8a32d5b514f898a39b7117b29b39e",
       "version_major": 2,
       "version_minor": 0
      },
      "text/plain": [
       "AudioStream(audio=Audio(value=b'RIFF2\\x19\\xf7\\x01WAVEfmt \\x10\\x00\\x00\\x00\\x01\\x00\\x02\\x00\\x80\\xbb\\x00\\x00\\x00\\…"
      ]
     },
     "execution_count": 7,
     "metadata": {},
     "output_type": "execute_result"
    }
   ],
   "source": [
    "widget = Audio(filename=\"gato_web/resources/gato_music/Crazy Frog - Axel F (Official Video).wav\")\n",
    "widget"
   ]
  }
 ],
 "metadata": {
  "kernelspec": {
   "display_name": "gato-radio",
   "language": "python",
   "name": "python3"
  },
  "language_info": {
   "codemirror_mode": {
    "name": "ipython",
    "version": 3
   },
   "file_extension": ".py",
   "mimetype": "text/x-python",
   "name": "python",
   "nbconvert_exporter": "python",
   "pygments_lexer": "ipython3",
   "version": "3.11.0"
  },
  "orig_nbformat": 4,
  "vscode": {
   "interpreter": {
    "hash": "d6a8f071b3ba8d7e7a18517f10b896d995db3abb1014a00de0db760bbb462361"
   }
  }
 },
 "nbformat": 4,
 "nbformat_minor": 2
}
