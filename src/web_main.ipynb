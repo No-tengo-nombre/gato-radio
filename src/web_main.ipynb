{
 "cells": [
  {
   "attachments": {},
   "cell_type": "markdown",
   "metadata": {},
   "source": [
    "# Gato radio\n",
    "![asdf](gato_web/resources/cat.png)"
   ]
  },
  {
   "cell_type": "code",
   "execution_count": 1,
   "metadata": {},
   "outputs": [],
   "source": [
    "from gato_web.core import play_audio\n",
    "from IPython.display import display\n",
    "from ipywidgets import widgets\n",
    "\n",
    "\n",
    "gain = 1\n",
    "def amplify(signal):\n",
    "    return gain * signal"
   ]
  },
  {
   "cell_type": "code",
   "execution_count": null,
   "metadata": {},
   "outputs": [],
   "source": [
    "play_btn = widgets.Button(description=\"Start listening\")\n",
    "play_btn.on_click(lambda _: play_audio(amplify))\n",
    "display(play_btn)"
   ]
  }
 ],
 "metadata": {
  "kernelspec": {
   "display_name": "Python 3.11.0 ('gato-radio')",
   "language": "python",
   "name": "python3"
  },
  "language_info": {
   "codemirror_mode": {
    "name": "ipython",
    "version": 3
   },
   "file_extension": ".py",
   "mimetype": "text/x-python",
   "name": "python",
   "nbconvert_exporter": "python",
   "pygments_lexer": "ipython3",
   "version": "3.11.0"
  },
  "orig_nbformat": 4,
  "vscode": {
   "interpreter": {
    "hash": "d6a8f071b3ba8d7e7a18517f10b896d995db3abb1014a00de0db760bbb462361"
   }
  }
 },
 "nbformat": 4,
 "nbformat_minor": 2
}
